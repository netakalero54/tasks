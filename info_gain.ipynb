{
 "cells": [
  {
   "cell_type": "code",
   "execution_count": 1,
   "id": "a07b1a57-45f0-4c8b-8584-507f4e80b737",
   "metadata": {},
   "outputs": [],
   "source": [
    "import numpy as np\n",
    "import pandas as pd\n",
    "import matplotlib.pyplot as plt\n",
    "import math\n",
    "import pickle\n",
    "import sbi.utils as utils\n",
    "import torch\n",
    "\n",
    "import sys  \n",
    "import sbibm\n",
    "import warnings\n",
    "warnings.simplefilter('ignore', FutureWarning)\n",
    "\n",
    "task = sbibm.get_task('gaussian_linear_uniform')\n",
    "prior = task.get_prior_dist()\n",
    "simulator = task.get_simulator()\n",
    "posterior = pickle.load(open('posterior_GLU_10000_10.pkl', 'rb'))"
   ]
  },
  {
   "cell_type": "code",
   "execution_count": 2,
   "id": "91a80f0d-1aec-44d8-9f07-2c853f5a1cbe",
   "metadata": {},
   "outputs": [
    {
     "data": {
      "application/vnd.jupyter.widget-view+json": {
       "model_id": "736c6c88b5394cce84b03eb9a7c079a1",
       "version_major": 2,
       "version_minor": 0
      },
      "text/plain": [
       "Drawing 1000 posterior samples:   0%|          | 0/1000 [00:00<?, ?it/s]"
      ]
     },
     "metadata": {},
     "output_type": "display_data"
    }
   ],
   "source": [
    "t = prior.sample((1,))[0]\n",
    "x0 = simulator(t)\n",
    "samples = posterior.set_default_x(x0).sample((1000,))"
   ]
  },
  {
   "cell_type": "code",
   "execution_count": 3,
   "id": "7ec14cb0-da5e-4b21-9366-dcff64d2e8bc",
   "metadata": {},
   "outputs": [
    {
     "data": {
      "text/plain": [
       "tensor(0.0409)"
      ]
     },
     "execution_count": 3,
     "metadata": {},
     "output_type": "execute_result"
    }
   ],
   "source": [
    "first = samples[:,0]\n",
    "hdr = torch.sort(first)\n",
    "hdr = hdr[0][0], hdr[0][1]\n",
    "\n",
    "(hdr[1] - hdr[0]) / (prior.base_dist.high[0] - prior.base_dist.low[0])"
   ]
  },
  {
   "cell_type": "code",
   "execution_count": null,
   "id": "5e7486f8-1b92-4ad7-9ec1-39494ac6a4bd",
   "metadata": {},
   "outputs": [],
   "source": []
  }
 ],
 "metadata": {
  "kernelspec": {
   "display_name": "Python 3 (ipykernel)",
   "language": "python",
   "name": "python3"
  },
  "language_info": {
   "codemirror_mode": {
    "name": "ipython",
    "version": 3
   },
   "file_extension": ".py",
   "mimetype": "text/x-python",
   "name": "python",
   "nbconvert_exporter": "python",
   "pygments_lexer": "ipython3",
   "version": "3.9.20"
  }
 },
 "nbformat": 4,
 "nbformat_minor": 5
}
